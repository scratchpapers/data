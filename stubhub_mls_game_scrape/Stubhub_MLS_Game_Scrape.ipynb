{
 "cells": [
  {
   "cell_type": "code",
   "execution_count": 4,
   "metadata": {},
   "outputs": [],
   "source": [
    "from selenium import webdriver\n",
    "import pandas as pd\n",
    "import datetime\n",
    "from datetime import datetime as dt\n",
    "import itertools\n",
    "import pdfkit"
   ]
  },
  {
   "cell_type": "code",
   "execution_count": 5,
   "metadata": {},
   "outputs": [],
   "source": [
    "\"\"\"Setting up Chrome webdriver\"\"\"\n",
    "driver = webdriver.Chrome()"
   ]
  },
  {
   "cell_type": "code",
   "execution_count": 6,
   "metadata": {},
   "outputs": [],
   "source": [
    "\"\"\"LA Galaxy, LAFC, DC, and San Jose urls\"\"\"\n",
    "domain = 'https://www.stubhub.com/'\n",
    "urls = ['la-galaxy-tickets/performer/12587/',\n",
    "        'lafc-tickets/performer/100275569/',\n",
    "        'dc-united-tickets/performer/23188/',\n",
    "        'san-jose-earthquakes-tickets/performer/143/']\n",
    "data = []"
   ]
  },
  {
   "cell_type": "code",
   "execution_count": 8,
   "metadata": {},
   "outputs": [],
   "source": [
    "\"\"\"Going through each url and scraping data\"\"\"\n",
    "for url in urls:\n",
    "    driver.get(domain+url)\n",
    "    \n",
    "    \"\"\"If there is 'See More Events tab on bottom to show more games, click. Otherwise, continue\"\"\"\n",
    "    try:\n",
    "        more = driver.find_element_by_class_name('EventListPanel__Footer')\n",
    "        if more:\n",
    "            more.click()\n",
    "    except:\n",
    "        pass\n",
    "    \n",
    "    \"\"\"Creating content variable to store the information into\"\"\"\n",
    "    content = driver.find_elements_by_class_name('EventItem__Body')\n",
    "    \n",
    "    \"\"\"Collecting all the info for listed games\"\"\"\n",
    "\n",
    "\n",
    "    for info in content:\n",
    "\n",
    "        details = info.find_element_by_class_name('EventItem__Details')\n",
    "        day = info.find_element_by_class_name('DateStamp__Day').text\n",
    "        date = info.find_element_by_class_name('DateStamp__MonthDate').text\n",
    "        gameinfo = details.find_element_by_tag_name('a')\n",
    "        state = details.find_element_by_class_name('EventItem__MixInfo').text.split()\n",
    "        \n",
    "#         Turning Date into DateTime\n",
    "        gamedatetime = datetime.datetime.strptime(date,'%b %d')\n",
    "        gamedate = gamedatetime.strftime('%m-%d-'+str(dt.today().year))\n",
    "        \n",
    "\n",
    "        \"\"\"If time is TBD (To be determined), which is basically all the Parking Pass tabs\"\"\"\n",
    "        if state[0] == 'TBD':\n",
    "            time = ' '.join(state[0:1])\n",
    "            city = ' '.join(state[6:])\n",
    "            venue = details.find_element_by_class_name('EventItem__VenueInfo').text\n",
    "\n",
    "        else:\n",
    "            time = ' '.join(state[0:2])\n",
    "            venue = details.find_element_by_class_name('EventItem__VenueInfo').text\n",
    "            \n",
    "        \"\"\"Getting the Home Team\"\"\"\n",
    "        away = gameinfo.text.split(' at')[0]\n",
    "\n",
    "        \"\"\"Getting the Away Team\"\"\"\n",
    "        home = gameinfo.text.split('at ')[1]\n",
    "\n",
    "        \"\"\"Show how much the ticket prices start from, and how many tickets are left if available\"\"\"\n",
    "    #     Lowest Price tickets start from\n",
    "        try:\n",
    "            tickets = details.find_element_by_class_name(\"EventItem__Price\").text\n",
    "        except:\n",
    "            pass\n",
    "\n",
    "    #     If available, how many tickets are left at the listed price\n",
    "        try:\n",
    "            ticksleft = info.find_element_by_class_name(\"EventItem__Urgency\").text\n",
    "        except:\n",
    "            pass\n",
    "\n",
    "        \"\"\"Grab the links for each games that will take you to ticket purchase for each game. **Optional**\"\"\"\n",
    "        link = details.find_element_by_class_name('EventItem__TitleLink')\n",
    "        link_url = link.get_attribute('href')\n",
    "\n",
    "        data.append([day, home, away, gamedate, gameinfo.text, time, venue, tickets, link_url])\n",
    "        \n",
    "        "
   ]
  },
  {
   "cell_type": "code",
   "execution_count": 9,
   "metadata": {},
   "outputs": [],
   "source": [
    "data.sort()"
   ]
  },
  {
   "cell_type": "code",
   "execution_count": 10,
   "metadata": {},
   "outputs": [],
   "source": [
    "# There are duplicates since one team shows a game with another team and vice versa. Removing Duplicates"
   ]
  },
  {
   "cell_type": "code",
   "execution_count": 11,
   "metadata": {},
   "outputs": [],
   "source": [
    "data_dedupe = list(k for k, _ in itertools.groupby(data))"
   ]
  },
  {
   "cell_type": "code",
   "execution_count": 12,
   "metadata": {},
   "outputs": [],
   "source": [
    "columns = ['Day', 'Home','Away', 'GameDate','GameName', 'GameTime','Venue','LowestTicket','TicketLink']"
   ]
  },
  {
   "cell_type": "code",
   "execution_count": 13,
   "metadata": {},
   "outputs": [],
   "source": [
    "# Creating a DataFrame"
   ]
  },
  {
   "cell_type": "code",
   "execution_count": 14,
   "metadata": {},
   "outputs": [],
   "source": [
    "dataframe = pd.DataFrame(data_dedupe, columns=columns).sort_values(by=['GameDate'], ascending=True)"
   ]
  },
  {
   "cell_type": "code",
   "execution_count": 15,
   "metadata": {},
   "outputs": [],
   "source": [
    "df = dataframe.reset_index(drop=True)"
   ]
  },
  {
   "cell_type": "code",
   "execution_count": 12,
   "metadata": {},
   "outputs": [],
   "source": [
    "# Sorted table by Game Date (descending) and reset the index so it can be exported to Excel / CSV / PDF"
   ]
  },
  {
   "cell_type": "code",
   "execution_count": 17,
   "metadata": {},
   "outputs": [],
   "source": [
    "# Export to Excel\n",
    "df.to_excel(\"MLS_Games_Excel.xlsx\")"
   ]
  },
  {
   "cell_type": "code",
   "execution_count": 14,
   "metadata": {},
   "outputs": [],
   "source": [
    "# Export to CSV\n",
    "df.to_csv(\"MLS_Games_CSV.csv\")"
   ]
  }
 ],
 "metadata": {
  "kernelspec": {
   "display_name": "Python 3",
   "language": "python",
   "name": "python3"
  },
  "language_info": {
   "codemirror_mode": {
    "name": "ipython",
    "version": 3
   },
   "file_extension": ".py",
   "mimetype": "text/x-python",
   "name": "python",
   "nbconvert_exporter": "python",
   "pygments_lexer": "ipython3",
   "version": "3.7.6"
  }
 },
 "nbformat": 4,
 "nbformat_minor": 4
}
